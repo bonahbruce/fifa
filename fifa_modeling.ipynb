{
 "cells": [
  {
   "cell_type": "code",
   "execution_count": 7,
   "metadata": {},
   "outputs": [],
   "source": [
    "import pandas as pd\n",
    "from sklearn.model_selection import train_test_split\n",
    "import warnings\n",
    "warnings.filterwarnings('ignore')\n",
    "from sklearn.model_selection import GridSearchCV, ShuffleSplit\n",
    "from sklearn.linear_model import LogisticRegression\n",
    "from sklearn.ensemble import RandomForestClassifier\n",
    "from sklearn.ensemble import AdaBoostClassifier\n",
    "from sklearn.ensemble import BaggingClassifier\n",
    "from sklearn.ensemble import GradientBoostingClassifier\n"
   ]
  },
  {
   "cell_type": "code",
   "execution_count": 8,
   "metadata": {},
   "outputs": [],
   "source": [
    "final = pd.read_csv('signature_table_final.csv',encoding='euc-kr')"
   ]
  },
  {
   "cell_type": "code",
   "execution_count": 9,
   "metadata": {},
   "outputs": [],
   "source": [
    "x = final.iloc[:,1:]\n",
    "y = final.iloc[:,:1]\n",
    "x_train, x_test, y_train, y_test = train_test_split(x,y, test_size = 0.3, random_state=42)"
   ]
  },
  {
   "cell_type": "code",
   "execution_count": 11,
   "metadata": {},
   "outputs": [
    {
     "name": "stdout",
     "output_type": "stream",
     "text": [
      "0.7106151813243283\n",
      "0.698184309695101\n"
     ]
    }
   ],
   "source": [
    "baseline = LogisticRegression()\n",
    "baseline.fit(x_train,y_train)\n",
    "print(baseline.score(x_train,y_train))\n",
    "print(baseline.score(x_test,y_test))"
   ]
  },
  {
   "cell_type": "code",
   "execution_count": 19,
   "metadata": {},
   "outputs": [
    {
     "name": "stdout",
     "output_type": "stream",
     "text": [
      "AdaBoostClassifier train 0.7090001468213184\n",
      "AdaBoostClassifier test 0.6954436450839329\n",
      "BaggingClassifier train 0.9856115107913669\n",
      "BaggingClassifier test 0.7858855772524838\n",
      "GradientBoosting train 0.7480546175304654\n",
      "GradientBoosting test 0.7050359712230215\n",
      "Randomforest train 0.9901629716634855\n",
      "Randomforest test 0.7882836587872559\n"
     ]
    }
   ],
   "source": [
    "model1 = AdaBoostClassifier()\n",
    "model1.fit(x_train,y_train)\n",
    "print(\"AdaBoostClassifier train\",model1.score(x_train,y_train))\n",
    "print(\"AdaBoostClassifier test\",model1.score(x_test,y_test))\n",
    "\n",
    "model2 = BaggingClassifier()\n",
    "model2.fit(x_train,y_train)\n",
    "print(\"BaggingClassifier train\",model2.score(x_train,y_train))\n",
    "print(\"BaggingClassifier test\",model2.score(x_test,y_test))\n",
    "\n",
    "model3 = GradientBoostingClassifier()\n",
    "model3.fit(x_train,y_train)\n",
    "print(\"GradientBoosting train\",model3.score(x_train,y_train))\n",
    "print(\"GradientBoosting test\",model3.score(x_test,y_test))\n",
    "\n",
    "model4 = RandomForestClassifier()\n",
    "model4.fit(x_train,y_train)\n",
    "print(\"Randomforest train\",model4.score(x_train,y_train))\n",
    "print(\"Randomforest test\",model4.score(x_test,y_test))"
   ]
  },
  {
   "cell_type": "code",
   "execution_count": 12,
   "metadata": {},
   "outputs": [],
   "source": [
    "cv = ShuffleSplit(n_splits=5, test_size=0.3, random_state=42)"
   ]
  },
  {
   "cell_type": "code",
   "execution_count": 13,
   "metadata": {
    "scrolled": true
   },
   "outputs": [
    {
     "name": "stdout",
     "output_type": "stream",
     "text": [
      "{'max_depth': 200, 'n_estimators': 200}\n",
      "0.9991190720892673\n",
      "0.815690304898938\n"
     ]
    }
   ],
   "source": [
    "param_grid = {'max_depth':[10,50,100,150,200,250,300], 'n_estimators': [100,200,300]}\n",
    "grid = GridSearchCV(RandomForestClassifier(), param_grid, cv=cv)\n",
    "grid.fit(x_train, y_train)\n",
    "print(grid.best_params_)\n",
    "print(grid.score(x_train,y_train))\n",
    "print(grid.score(x_test,y_test))"
   ]
  },
  {
   "cell_type": "code",
   "execution_count": 14,
   "metadata": {},
   "outputs": [],
   "source": [
    "from sklearn.preprocessing import StandardScaler\n",
    "scaler = StandardScaler()\n",
    "scaled_x_train = scaler.fit_transform(x_train)\n",
    "scaled_x_test = scaler.transform(x_test)"
   ]
  },
  {
   "cell_type": "code",
   "execution_count": 15,
   "metadata": {},
   "outputs": [
    {
     "name": "stdout",
     "output_type": "stream",
     "text": [
      "{'max_depth': 50, 'n_estimators': 100}\n",
      "0.9991190720892673\n",
      "0.8139773895169579\n"
     ]
    }
   ],
   "source": [
    "param_grid = {'max_depth':[10,50,100,150,200,250,300], 'n_estimators': [100,200,300]}\n",
    "grid = GridSearchCV(RandomForestClassifier(), param_grid, cv=cv)\n",
    "grid.fit(scaled_x_train, y_train)\n",
    "print(grid.best_params_)\n",
    "print(grid.score(scaled_x_train,y_train))\n",
    "print(grid.score(scaled_x_test,y_test))"
   ]
  },
  {
   "cell_type": "code",
   "execution_count": 55,
   "metadata": {},
   "outputs": [],
   "source": [
    "MU_vs_TT = pd.read_csv('gloryManU2.csv',encoding='euc-kr')"
   ]
  },
  {
   "cell_type": "code",
   "execution_count": 56,
   "metadata": {},
   "outputs": [
    {
     "data": {
      "text/html": [
       "<div>\n",
       "<style scoped>\n",
       "    .dataframe tbody tr th:only-of-type {\n",
       "        vertical-align: middle;\n",
       "    }\n",
       "\n",
       "    .dataframe tbody tr th {\n",
       "        vertical-align: top;\n",
       "    }\n",
       "\n",
       "    .dataframe thead th {\n",
       "        text-align: right;\n",
       "    }\n",
       "</style>\n",
       "<table border=\"1\" class=\"dataframe\">\n",
       "  <thead>\n",
       "    <tr style=\"text-align: right;\">\n",
       "      <th></th>\n",
       "      <th>tackleTry</th>\n",
       "      <th>tackleSuccess</th>\n",
       "      <th>yellowCards</th>\n",
       "      <th>redCards</th>\n",
       "      <th>shootTotal</th>\n",
       "      <th>shootOutPenalty</th>\n",
       "      <th>shootInPenalty</th>\n",
       "      <th>goalTotal</th>\n",
       "      <th>goalInPenalty</th>\n",
       "      <th>goalOutPenalty</th>\n",
       "      <th>...</th>\n",
       "      <th>shortPassSuccess</th>\n",
       "      <th>longpassRate</th>\n",
       "      <th>shortpassRate</th>\n",
       "      <th>possession</th>\n",
       "      <th>passRate</th>\n",
       "      <th>shootSetPiece</th>\n",
       "      <th>shootPenaltyKick</th>\n",
       "      <th>effectiveShootTotal</th>\n",
       "      <th>goalPenaltykick</th>\n",
       "      <th>ownGoal</th>\n",
       "    </tr>\n",
       "  </thead>\n",
       "  <tbody>\n",
       "    <tr>\n",
       "      <th>0</th>\n",
       "      <td>20</td>\n",
       "      <td>41</td>\n",
       "      <td>0</td>\n",
       "      <td>0</td>\n",
       "      <td>12</td>\n",
       "      <td>5.04</td>\n",
       "      <td>6.96</td>\n",
       "      <td>2</td>\n",
       "      <td>2</td>\n",
       "      <td>0</td>\n",
       "      <td>...</td>\n",
       "      <td>390</td>\n",
       "      <td>0.12</td>\n",
       "      <td>0.85</td>\n",
       "      <td>47</td>\n",
       "      <td>75</td>\n",
       "      <td>1</td>\n",
       "      <td>1</td>\n",
       "      <td>7</td>\n",
       "      <td>1</td>\n",
       "      <td>0</td>\n",
       "    </tr>\n",
       "    <tr>\n",
       "      <th>1</th>\n",
       "      <td>18</td>\n",
       "      <td>59</td>\n",
       "      <td>1</td>\n",
       "      <td>0</td>\n",
       "      <td>8</td>\n",
       "      <td>3.04</td>\n",
       "      <td>5.04</td>\n",
       "      <td>1</td>\n",
       "      <td>1</td>\n",
       "      <td>0</td>\n",
       "      <td>...</td>\n",
       "      <td>437</td>\n",
       "      <td>0.11</td>\n",
       "      <td>0.83</td>\n",
       "      <td>53</td>\n",
       "      <td>79</td>\n",
       "      <td>1</td>\n",
       "      <td>0</td>\n",
       "      <td>5</td>\n",
       "      <td>0</td>\n",
       "      <td>0</td>\n",
       "    </tr>\n",
       "  </tbody>\n",
       "</table>\n",
       "<p>2 rows × 22 columns</p>\n",
       "</div>"
      ],
      "text/plain": [
       "   tackleTry  tackleSuccess  yellowCards  redCards  shootTotal  \\\n",
       "0         20             41            0         0          12   \n",
       "1         18             59            1         0           8   \n",
       "\n",
       "   shootOutPenalty  shootInPenalty  goalTotal  goalInPenalty  goalOutPenalty  \\\n",
       "0             5.04            6.96          2              2               0   \n",
       "1             3.04            5.04          1              1               0   \n",
       "\n",
       "   ...  shortPassSuccess  longpassRate  shortpassRate  possession  passRate  \\\n",
       "0  ...               390          0.12           0.85          47        75   \n",
       "1  ...               437          0.11           0.83          53        79   \n",
       "\n",
       "   shootSetPiece  shootPenaltyKick  effectiveShootTotal  goalPenaltykick  \\\n",
       "0              1                 1                    7                1   \n",
       "1              1                 0                    5                0   \n",
       "\n",
       "   ownGoal  \n",
       "0        0  \n",
       "1        0  \n",
       "\n",
       "[2 rows x 22 columns]"
      ]
     },
     "execution_count": 56,
     "metadata": {},
     "output_type": "execute_result"
    }
   ],
   "source": [
    "MU_vs_TT"
   ]
  },
  {
   "cell_type": "code",
   "execution_count": 61,
   "metadata": {},
   "outputs": [
    {
     "name": "stdout",
     "output_type": "stream",
     "text": [
      "Randomforest train 0.9991190720892673\n",
      "Randomforest test 0.817060637204522\n"
     ]
    }
   ],
   "source": [
    "model_real = RandomForestClassifier(max_depth=200, n_estimators=200)\n",
    "model_real.fit(x_train,y_train)\n",
    "print(\"Randomforest train\",model_real.score(x_train,y_train))\n",
    "print(\"Randomforest test\",model_real.score(x_test,y_test))"
   ]
  },
  {
   "cell_type": "code",
   "execution_count": 62,
   "metadata": {},
   "outputs": [
    {
     "data": {
      "text/plain": [
       "array([[0.185, 0.145, 0.67 ],\n",
       "       [0.195, 0.16 , 0.645]])"
      ]
     },
     "execution_count": 62,
     "metadata": {},
     "output_type": "execute_result"
    }
   ],
   "source": [
    "model_real.predict_proba(MU_vs_TT)"
   ]
  },
  {
   "cell_type": "code",
   "execution_count": 63,
   "metadata": {},
   "outputs": [
    {
     "data": {
      "text/plain": [
       "array([3, 3], dtype=int64)"
      ]
     },
     "execution_count": 63,
     "metadata": {},
     "output_type": "execute_result"
    }
   ],
   "source": [
    "model_real.predict(MU_vs_TT)"
   ]
  }
 ],
 "metadata": {
  "kernelspec": {
   "display_name": "Python 3",
   "language": "python",
   "name": "python3"
  },
  "language_info": {
   "codemirror_mode": {
    "name": "ipython",
    "version": 3
   },
   "file_extension": ".py",
   "mimetype": "text/x-python",
   "name": "python",
   "nbconvert_exporter": "python",
   "pygments_lexer": "ipython3",
   "version": "3.7.4"
  }
 },
 "nbformat": 4,
 "nbformat_minor": 2
}
